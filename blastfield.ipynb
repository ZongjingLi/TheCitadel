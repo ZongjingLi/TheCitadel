{
 "cells": [
  {
   "cell_type": "code",
   "execution_count": 1,
   "metadata": {},
   "outputs": [],
   "source": [
    "from icc.math import *"
   ]
  },
  {
   "cell_type": "code",
   "execution_count": 12,
   "metadata": {},
   "outputs": [],
   "source": [
    "import torch\n",
    "import torch.nn as nn\n",
    "\n",
    "class Symbol(nn.Module):\n",
    "    def __init__(self):\n",
    "        super().__init__()\n",
    "\n",
    "class Expression(nn.Module):\n",
    "    def __init__(self, expr):\n",
    "        super().__init__()\n",
    "        self.expr = expr\n",
    "\n",
    "    def parse(self, expr):\n",
    "        return expr\n",
    "\n",
    "    def __str__(self):return self.expr\n",
    "\n",
    "class Equation(nn.Module):\n",
    "    def __init__(self, expr):\n",
    "        self.left, self.right = expr.split(\" \")\n",
    "    \n",
    "    def __str__(self): return self.left + self.right"
   ]
  },
  {
   "cell_type": "code",
   "execution_count": 13,
   "metadata": {},
   "outputs": [
    {
     "name": "stdout",
     "output_type": "stream",
     "text": [
      "d(x) = f(x) + x \n"
     ]
    }
   ],
   "source": [
    "expr = Expression(\"d(x) = f(x) + x \")\n",
    "print(expr)"
   ]
  }
 ],
 "metadata": {
  "interpreter": {
   "hash": "a47e46093c771f9510c4aabf3710bfb1355e5f870a13f8c22092f45d4d23626d"
  },
  "kernelspec": {
   "display_name": "Python 3.9.13 ('Melkor')",
   "language": "python",
   "name": "python3"
  },
  "language_info": {
   "codemirror_mode": {
    "name": "ipython",
    "version": 3
   },
   "file_extension": ".py",
   "mimetype": "text/x-python",
   "name": "python",
   "nbconvert_exporter": "python",
   "pygments_lexer": "ipython3",
   "version": "3.9.13"
  },
  "orig_nbformat": 4
 },
 "nbformat": 4,
 "nbformat_minor": 2
}
